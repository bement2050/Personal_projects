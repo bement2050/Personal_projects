{
 "cells": [
  {
   "cell_type": "code",
   "execution_count": 47,
   "id": "7157033c",
   "metadata": {},
   "outputs": [],
   "source": [
    "import requests\n",
    "from bs4 import BeautifulSoup\n",
    "import re\n",
    "import pandas as pd"
   ]
  },
  {
   "cell_type": "code",
   "execution_count": 53,
   "id": "c93fc33a",
   "metadata": {},
   "outputs": [],
   "source": [
    "list_of_titles=[]"
   ]
  },
  {
   "cell_type": "code",
   "execution_count": 54,
   "id": "f9ed90cd",
   "metadata": {},
   "outputs": [],
   "source": [
    "for i in list(range(23,190)):\n",
    "    r=requests.get('https://www.qwiklabs.com/quests/{k}'.format(k=i))\n",
    "    title=re.findall('<title>(.*?)</title>',r.text)[0].split('|')[0]\n",
    "    list_of_titles.append(title)"
   ]
  },
  {
   "cell_type": "code",
   "execution_count": 46,
   "id": "25e70b4b",
   "metadata": {},
   "outputs": [
    {
     "data": {
      "text/plain": [
       "['Google Cloud Essentials ',\n",
       " 'Cloud Architecture ',\n",
       " 'Data Engineering ',\n",
       " 'Deploying Applications ',\n",
       " 'Windows on Google Cloud ',\n",
       " 'Scientific Data Processing ',\n",
       " 'Kubernetes in Google Cloud ',\n",
       " 'Qwiklabs',\n",
       " 'Networking in Google Cloud  ',\n",
       " 'Machine Learning APIs ',\n",
       " 'Baseline: Infrastructure ',\n",
       " 'Baseline: Data, ML, AI ',\n",
       " 'Google Cloud&#39;s Operations Suite ',\n",
       " 'Google Cloud Solutions I: Scaling Your Infrastructure ',\n",
       " 'Baseline: Deploy &amp; Develop ',\n",
       " 'Google Cloud Solutions II: Data and Machine Learning ',\n",
       " 'Websites and Web Applications ',\n",
       " 'Security &amp; Identity Fundamentals ',\n",
       " 'Application Development - Python ',\n",
       " 'Application Development - Java ',\n",
       " 'Data Science on Google Cloud ',\n",
       " 'Managing Cloud Infrastructure with Terraform ',\n",
       " 'Kubernetes Solutions ',\n",
       " 'Network Performance and Optimization ',\n",
       " 'Qwiklabs',\n",
       " 'Developing Data and Machine Learning Apps with C# ',\n",
       " 'IoT in the Google Cloud ',\n",
       " 'Data Science on Google Cloud: Machine Learning ',\n",
       " 'Workspace: Integrations ',\n",
       " 'Cloud SQL ',\n",
       " 'Qwiklabs',\n",
       " 'Exploring APIs ',\n",
       " 'Qwiklabs',\n",
       " 'Qwiklabs',\n",
       " 'Qwiklabs',\n",
       " 'NCAA® March Madness®: Bracketology with Google Cloud ',\n",
       " 'Qwiklabs',\n",
       " 'Qwiklabs',\n",
       " 'OK Google: Build Interactive Apps with Google Assistant ',\n",
       " 'Public Cloud Security by Palo Alto Networks ',\n",
       " 'Qwiklabs',\n",
       " 'Qwiklabs',\n",
       " 'Workspace Essentials ',\n",
       " 'Cloud Engineering ',\n",
       " 'Cloud Development ',\n",
       " 'BigQuery for Data Warehousing ',\n",
       " 'BigQuery Basics for Data Analysts ',\n",
       " 'BigQuery for Marketing Analysts ',\n",
       " 'BigQuery for Machine Learning ']"
      ]
     },
     "execution_count": 46,
     "metadata": {},
     "output_type": "execute_result"
    }
   ],
   "source": [
    "list_of_titles"
   ]
  },
  {
   "cell_type": "code",
   "execution_count": 55,
   "id": "2d7dcae5",
   "metadata": {},
   "outputs": [],
   "source": [
    "courses_link=pd.DataFrame(list_of_titles)"
   ]
  },
  {
   "cell_type": "code",
   "execution_count": 56,
   "id": "acdc8135",
   "metadata": {},
   "outputs": [],
   "source": [
    "courses_link['link']=['https://www.qwiklabs.com/quests/{k}'.format(k=i) for i in list(range(23,190))]"
   ]
  },
  {
   "cell_type": "code",
   "execution_count": 58,
   "id": "5d195bf9",
   "metadata": {},
   "outputs": [
    {
     "name": "stdout",
     "output_type": "stream",
     "text": [
      "                                                     0  \\\n",
      "0                             Google Cloud Essentials    \n",
      "1                                  Cloud Architecture    \n",
      "2                                    Data Engineering    \n",
      "3                              Deploying Applications    \n",
      "4                             Windows on Google Cloud    \n",
      "..                                                 ...   \n",
      "162  Create Conversational AI Agents with Dialogflo...   \n",
      "163          Manage PostgreSQL Databases on Cloud SQL    \n",
      "164                                           Qwiklabs   \n",
      "165                                           Qwiklabs   \n",
      "166                                           Qwiklabs   \n",
      "\n",
      "                                    link  \n",
      "0     https://www.qwiklabs.com/quests/23  \n",
      "1     https://www.qwiklabs.com/quests/24  \n",
      "2     https://www.qwiklabs.com/quests/25  \n",
      "3     https://www.qwiklabs.com/quests/26  \n",
      "4     https://www.qwiklabs.com/quests/27  \n",
      "..                                   ...  \n",
      "162  https://www.qwiklabs.com/quests/185  \n",
      "163  https://www.qwiklabs.com/quests/186  \n",
      "164  https://www.qwiklabs.com/quests/187  \n",
      "165  https://www.qwiklabs.com/quests/188  \n",
      "166  https://www.qwiklabs.com/quests/189  \n",
      "\n",
      "[167 rows x 2 columns]\n"
     ]
    }
   ],
   "source": [
    "print(courses_link)"
   ]
  },
  {
   "cell_type": "code",
   "execution_count": 59,
   "id": "db81e4d5",
   "metadata": {},
   "outputs": [],
   "source": [
    "courses_link.to_csv('training.csv')"
   ]
  },
  {
   "cell_type": "code",
   "execution_count": null,
   "id": "b7e1ef4b",
   "metadata": {},
   "outputs": [],
   "source": []
  }
 ],
 "metadata": {
  "kernelspec": {
   "display_name": "Python 3 (ipykernel)",
   "language": "python",
   "name": "python3"
  },
  "language_info": {
   "codemirror_mode": {
    "name": "ipython",
    "version": 3
   },
   "file_extension": ".py",
   "mimetype": "text/x-python",
   "name": "python",
   "nbconvert_exporter": "python",
   "pygments_lexer": "ipython3",
   "version": "3.9.7"
  }
 },
 "nbformat": 4,
 "nbformat_minor": 5
}
